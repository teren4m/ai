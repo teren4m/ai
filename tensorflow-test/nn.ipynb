{
 "cells": [
  {
   "attachments": {},
   "cell_type": "markdown",
   "metadata": {},
   "source": [
    "## Import ##"
   ]
  },
  {
   "cell_type": "code",
   "execution_count": null,
   "metadata": {},
   "outputs": [],
   "source": [
    "import numpy as np\n",
    "import tensorflow as tf\n",
    "\n",
    "import matplotlib.pyplot as plt\n",
    "from model_profiler import model_profiler\n",
    "import pathlib\n",
    "from pathlib import Path\n",
    "import cv2 as cv\n",
    "import json\n",
    "import pandas as pd\n",
    "import nvidia_smi\n",
    "from numba import cuda\n",
    "\n",
    "batch_size = 20\n",
    "epoch_size = 3000\n",
    "test_len = 8"
   ]
  },
  {
   "cell_type": "code",
   "execution_count": null,
   "metadata": {},
   "outputs": [],
   "source": [
    "def flatten(l):\n",
    "    return [item for sublist in l for item in sublist]\n",
    "\n",
    "\n",
    "def get_txt_data(path: Path) -> np.ndarray:\n",
    "    with path.open(\"r\", encoding=\"utf-8\") as f:\n",
    "        result: list = json.loads(f.readline())\n",
    "        return np.array(flatten(result))\n",
    "\n",
    "\n",
    "# p = pathlib.Path('../../openCV_python/data/out/resized_frames/resized')\n",
    "# txt_files = list(p.glob('*.txt'))\n",
    "# img_files = [item.parent.resolve() / item.stem for item in txt_files]\n",
    "# txt_files[0].stem\n",
    "# image = txt_files[0].parent.resolve() / txt_files[0].stem\n",
    "\n",
    "# img_count = len(txt_files)\n",
    "# img_shape = cv.imread(str(image)).shape\n",
    "\n",
    "# txt_shape = get_txt_data(txt_files[0]).shape\n",
    "\n",
    "# input_shape = (img_count, *img_shape)\n",
    "# output_shape = (img_count, *txt_shape)\n",
    "input_data: np.ndarray = np.load('data/train_input.npy')\n",
    "output_data: np.ndarray = np.load('data/train_output.npy')\n",
    "input_shape = input_data.shape[1:]\n",
    "output_shape = output_data.shape[1:]\n",
    "# data = []\n",
    "\n",
    "# for i in range(len(img_files)):\n",
    "#     input_data[i] = cv.imread(str(img_files[i]))\n",
    "#     output_data[i] = get_txt_data(txt_files[i])\n",
    "\n",
    "print('input shape')\n",
    "print(input_shape)\n",
    "print()\n",
    "print('output shape')\n",
    "print(output_shape)\n",
    "\n",
    "\n",
    "def load_data():\n",
    "    l = len(input_data)\n",
    "    last = l - 1\n",
    "    first = int(l-l/test_len)\n",
    "    train_images = input_data[0:first]\n",
    "    train_labels = output_data[0:first]\n",
    "\n",
    "    test_images = input_data[first:last]\n",
    "    test_labels = output_data[first:last]\n",
    "    print('Train shape: {}'.format(train_images.shape))\n",
    "    print('Test shape: {}'.format(test_images.shape))\n",
    "\n",
    "    return (train_images, train_labels), (test_images, test_labels)\n"
   ]
  },
  {
   "cell_type": "code",
   "execution_count": null,
   "metadata": {},
   "outputs": [],
   "source": [
    "(train_images, train_labels), (test_images, test_labels) = load_data()\n",
    "input_shape = train_images.shape[1:3]\n"
   ]
  },
  {
   "cell_type": "code",
   "execution_count": null,
   "metadata": {},
   "outputs": [],
   "source": [
    "activation_fun = 'gelu'\n",
    "print(np.prod(input_shape))\n",
    "\n",
    "normalization = tf.keras.layers.Normalization(axis=None)\n",
    "normalization.adapt([0,255.0])\n",
    "\n",
    "model = tf.keras.models.Sequential()\n",
    "model.add(tf.keras.layers.Input(input_shape))\n",
    "model.add(normalization)\n",
    "model.add(tf.keras.layers.Conv1D(32, 3, activation=activation_fun))\n",
    "model.add(tf.keras.layers.Conv1D(32, 3, activation=activation_fun))\n",
    "model.add(tf.keras.layers.MaxPooling1D(2))\n",
    "\n",
    "model.add(tf.keras.layers.Flatten())\n",
    "model.add(tf.keras.layers.Dense(1024 * 120, activation_fun))\n",
    "model.add(tf.keras.layers.Dropout(0.3))\n",
    "model.add(tf.keras.layers.Dense(1024, activation_fun))\n",
    "model.add(tf.keras.layers.Dense(8))\n",
    "\n",
    "model.summary()\n"
   ]
  },
  {
   "cell_type": "code",
   "execution_count": null,
   "metadata": {},
   "outputs": [],
   "source": [
    "# profile = model_profiler(model, batch_size)\n",
    "\n",
    "# print(profile)\n"
   ]
  },
  {
   "cell_type": "code",
   "execution_count": null,
   "metadata": {},
   "outputs": [],
   "source": [
    "model.compile(optimizer='adam',\n",
    "              loss=\"mae\",)\n",
    "\n",
    "history = model.fit(\n",
    "    train_images, train_labels,\n",
    "    epochs=epoch_size,\n",
    "    batch_size=batch_size,\n",
    "    validation_data=(test_images, test_labels)\n",
    ")\n"
   ]
  },
  {
   "cell_type": "code",
   "execution_count": null,
   "metadata": {},
   "outputs": [],
   "source": [
    "history: dict = history.history\n",
    "loss = history['loss']\n",
    "val_loss = history['val_loss']\n",
    "l = int(len(loss) / 10)\n",
    "history['loss'] = loss[l:]\n",
    "history['val_loss'] = val_loss[l:]\n"
   ]
  },
  {
   "cell_type": "code",
   "execution_count": null,
   "metadata": {},
   "outputs": [],
   "source": [
    "\n",
    "print(history)\n",
    "history_df = pd.DataFrame(history)\n",
    "history_df.loc[:, ['loss', 'val_loss']].plot()\n",
    "print(\"Minimum validation loss: {}\".format(history_df['val_loss'].min()))\n",
    "\n",
    "# plt.plot(history.history['accuracy'], label='accuracy')\n",
    "# plt.plot(history.history['val_accuracy'], label = 'val_accuracy')\n",
    "# plt.xlabel('Epoch')\n",
    "# plt.ylabel('Accuracy')\n",
    "# plt.ylim([0.5, 1])\n",
    "# plt.legend(loc='lower right')\n",
    "\n",
    "# test_loss, test_acc = model.evaluate(test_images,  test_labels, verbose=2)\n"
   ]
  },
  {
   "cell_type": "code",
   "execution_count": null,
   "metadata": {},
   "outputs": [],
   "source": [
    "# print(test_acc)\n",
    "\n",
    "# cuda.select_device(0)\n",
    "# cuda.close()\n"
   ]
  },
  {
   "cell_type": "code",
   "execution_count": null,
   "metadata": {},
   "outputs": [],
   "source": [
    "model.save('out')"
   ]
  }
 ],
 "metadata": {
  "kernelspec": {
   "display_name": "Python 3",
   "language": "python",
   "name": "python3"
  },
  "language_info": {
   "codemirror_mode": {
    "name": "ipython",
    "version": 3
   },
   "file_extension": ".py",
   "mimetype": "text/x-python",
   "name": "python",
   "nbconvert_exporter": "python",
   "pygments_lexer": "ipython3",
   "version": "3.9.16"
  },
  "orig_nbformat": 4
 },
 "nbformat": 4,
 "nbformat_minor": 2
}
