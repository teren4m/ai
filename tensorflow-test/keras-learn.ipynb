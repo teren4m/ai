{
 "cells": [
  {
   "cell_type": "code",
   "execution_count": 1,
   "metadata": {},
   "outputs": [],
   "source": [
    "import numpy as np\n",
    "import tensorflow as tf\n",
    "from tensorflow.keras import layers"
   ]
  },
  {
   "attachments": {},
   "cell_type": "markdown",
   "metadata": {},
   "source": [
    "## Average layer ##"
   ]
  },
  {
   "cell_type": "code",
   "execution_count": 2,
   "metadata": {},
   "outputs": [
    {
     "data": {
      "text/plain": [
       "[[0.5, 0.5], [0.5, 0.5]]"
      ]
     },
     "execution_count": 2,
     "metadata": {},
     "output_type": "execute_result"
    }
   ],
   "source": [
    "x1 = np.ones((2, 2))\n",
    "x2 = np.zeros((2, 2))\n",
    "y = layers.Average()([x1, x2])\n",
    "y.numpy().tolist()"
   ]
  },
  {
   "attachments": {},
   "cell_type": "markdown",
   "metadata": {},
   "source": [
    "## AveragePooling1D layer ##"
   ]
  },
  {
   "cell_type": "code",
   "execution_count": 3,
   "metadata": {},
   "outputs": [
    {
     "name": "stdout",
     "output_type": "stream",
     "text": [
      "tf.Tensor(\n",
      "[[[1.]\n",
      "  [2.]\n",
      "  [3.]\n",
      "  [4.]\n",
      "  [5.]]], shape=(1, 5, 1), dtype=float32)\n"
     ]
    },
    {
     "data": {
      "text/plain": [
       "<tf.Tensor: shape=(1, 4, 1), dtype=float32, numpy=\n",
       "array([[[1.5],\n",
       "        [2.5],\n",
       "        [3.5],\n",
       "        [4.5]]], dtype=float32)>"
      ]
     },
     "execution_count": 3,
     "metadata": {},
     "output_type": "execute_result"
    }
   ],
   "source": [
    "x = tf.constant([1., 2., 3., 4., 5.])\n",
    "x = tf.reshape(x, [1, 5, 1])\n",
    "print(x)\n",
    "\n",
    "avg_pool_1d = layers.AveragePooling1D(pool_size=2,\n",
    "                                      strides=1, padding='valid')\n",
    "\n",
    "avg_pool_1d(x)\n"
   ]
  },
  {
   "attachments": {},
   "cell_type": "markdown",
   "metadata": {},
   "source": [
    "## Add ##"
   ]
  },
  {
   "cell_type": "code",
   "execution_count": 4,
   "metadata": {},
   "outputs": [
    {
     "name": "stdout",
     "output_type": "stream",
     "text": [
      "(2, 3, 4)\n",
      "tf.Tensor(\n",
      "[[[ 2.1002483   0.24537767  0.6245387  -1.2870399 ]\n",
      "  [-0.6542319  -1.5217857   0.55564773  0.5713    ]\n",
      "  [ 0.31412235 -1.1644651  -0.50308794 -0.15155202]]\n",
      "\n",
      " [[ 0.8264644  -0.43034464  1.9463277  -0.04400328]\n",
      "  [ 0.4527629   0.4198447  -0.22443706 -1.1805621 ]\n",
      "  [-0.31064212 -0.3695689   0.7667101   0.57903033]]], shape=(2, 3, 4), dtype=float32)\n",
      "tf.Tensor(\n",
      "[[[-0.43504065  0.08934673  1.462825    0.53930587]\n",
      "  [-1.12799     1.7226175   1.2458576  -0.04340322]\n",
      "  [-0.4887006   0.7500705  -0.5306447  -0.21774818]]\n",
      "\n",
      " [[-0.6502012   0.21799019 -0.7973433  -0.7900892 ]\n",
      "  [ 1.9322126   0.16772787 -0.48776367  1.1973485 ]\n",
      "  [ 1.7298963   0.4159187  -1.4849435   1.7060226 ]]], shape=(2, 3, 4), dtype=float32)\n"
     ]
    },
    {
     "data": {
      "text/plain": [
       "<tf.Tensor: shape=(2, 3, 4), dtype=float32, numpy=\n",
       "array([[[ 1.6652076 ,  0.3347244 ,  2.0873637 , -0.747734  ],\n",
       "        [-1.7822219 ,  0.20083177,  1.8015053 ,  0.5278968 ],\n",
       "        [-0.17457825, -0.41439456, -1.0337327 , -0.3693002 ]],\n",
       "\n",
       "       [[ 0.17626321, -0.21235445,  1.1489844 , -0.8340925 ],\n",
       "        [ 2.3849754 ,  0.5875726 , -0.71220076,  0.01678634],\n",
       "        [ 1.4192542 ,  0.04634979, -0.7182334 ,  2.285053  ]]],\n",
       "      dtype=float32)>"
      ]
     },
     "execution_count": 4,
     "metadata": {},
     "output_type": "execute_result"
    }
   ],
   "source": [
    "input_shape = (2, 3, 4)\n",
    "x1 = tf.random.normal(input_shape)\n",
    "x2 = tf.random.normal(input_shape)\n",
    "y = tf.keras.layers.Add()([x1, x2])\n",
    "print(y.shape)\n",
    "print(x1)\n",
    "print(x2)\n",
    "y"
   ]
  },
  {
   "attachments": {},
   "cell_type": "markdown",
   "metadata": {},
   "source": [
    "## tf.keras.layers.Maximum ##"
   ]
  },
  {
   "cell_type": "code",
   "execution_count": 5,
   "metadata": {},
   "outputs": [
    {
     "name": "stdout",
     "output_type": "stream",
     "text": [
      "[[0]\n",
      " [1]\n",
      " [2]\n",
      " [3]\n",
      " [4]]\n",
      "[[5]\n",
      " [6]\n",
      " [7]\n",
      " [8]\n",
      " [9]]\n"
     ]
    },
    {
     "data": {
      "text/plain": [
       "<tf.Tensor: shape=(5, 1), dtype=int32, numpy=\n",
       "array([[5],\n",
       "       [6],\n",
       "       [7],\n",
       "       [8],\n",
       "       [9]])>"
      ]
     },
     "execution_count": 5,
     "metadata": {},
     "output_type": "execute_result"
    }
   ],
   "source": [
    "x1 = np.arange(5).reshape(5, 1)\n",
    "x2 = np.arange(5, 10).reshape(5, 1)\n",
    "print(x1)\n",
    "print(x2)\n",
    "\n",
    "tf.keras.layers.Maximum()([x1,x2])"
   ]
  },
  {
   "attachments": {},
   "cell_type": "markdown",
   "metadata": {},
   "source": [
    "## Normalization ##"
   ]
  },
  {
   "cell_type": "code",
   "execution_count": 6,
   "metadata": {},
   "outputs": [
    {
     "data": {
      "text/plain": [
       "<tf.Tensor: shape=(3,), dtype=float32, numpy=array([-1.4142135 , -0.70710677,  0.        ], dtype=float32)>"
      ]
     },
     "execution_count": 6,
     "metadata": {},
     "output_type": "execute_result"
    }
   ],
   "source": [
    "adapt_data = np.array([1., 2., 3., 4., 5.], dtype='float32')\n",
    "input_data = np.array([1., 2., 3.], dtype='float32')\n",
    "layer = tf.keras.layers.Normalization(axis=None)\n",
    "layer.adapt(adapt_data)\n",
    "layer(input_data)"
   ]
  }
 ],
 "metadata": {
  "kernelspec": {
   "display_name": "Python 3",
   "language": "python",
   "name": "python3"
  },
  "language_info": {
   "codemirror_mode": {
    "name": "ipython",
    "version": 3
   },
   "file_extension": ".py",
   "mimetype": "text/x-python",
   "name": "python",
   "nbconvert_exporter": "python",
   "pygments_lexer": "ipython3",
   "version": "3.9.16"
  },
  "orig_nbformat": 4
 },
 "nbformat": 4,
 "nbformat_minor": 2
}
