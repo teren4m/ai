{
 "cells": [
  {
   "cell_type": "code",
   "execution_count": 5,
   "metadata": {},
   "outputs": [],
   "source": [
    "import numpy as np\n",
    "import tensorflow as tf\n",
    "from tensorflow.keras import layers"
   ]
  },
  {
   "attachments": {},
   "cell_type": "markdown",
   "metadata": {},
   "source": [
    "## Average layer ##"
   ]
  },
  {
   "cell_type": "code",
   "execution_count": 6,
   "metadata": {},
   "outputs": [
    {
     "data": {
      "text/plain": [
       "[[0.5, 0.5], [0.5, 0.5]]"
      ]
     },
     "execution_count": 6,
     "metadata": {},
     "output_type": "execute_result"
    }
   ],
   "source": [
    "x1 = np.ones((2, 2))\n",
    "x2 = np.zeros((2, 2))\n",
    "y = layers.Average()([x1, x2])\n",
    "y.numpy().tolist()"
   ]
  },
  {
   "attachments": {},
   "cell_type": "markdown",
   "metadata": {},
   "source": [
    "## AveragePooling1D layer ##"
   ]
  },
  {
   "cell_type": "code",
   "execution_count": 9,
   "metadata": {},
   "outputs": [
    {
     "name": "stdout",
     "output_type": "stream",
     "text": [
      "tf.Tensor(\n",
      "[[[1.]\n",
      "  [2.]\n",
      "  [3.]\n",
      "  [4.]\n",
      "  [5.]]], shape=(1, 5, 1), dtype=float32)\n"
     ]
    },
    {
     "data": {
      "text/plain": [
       "<tf.Tensor: shape=(1, 4, 1), dtype=float32, numpy=\n",
       "array([[[1.5],\n",
       "        [2.5],\n",
       "        [3.5],\n",
       "        [4.5]]], dtype=float32)>"
      ]
     },
     "execution_count": 9,
     "metadata": {},
     "output_type": "execute_result"
    }
   ],
   "source": [
    "x = tf.constant([1., 2., 3., 4., 5.])\n",
    "x = tf.reshape(x, [1, 5, 1])\n",
    "print(x)\n",
    "\n",
    "avg_pool_1d = layers.AveragePooling1D(pool_size=2,\n",
    "                                      strides=1, padding='valid')\n",
    "\n",
    "avg_pool_1d(x)\n"
   ]
  },
  {
   "cell_type": "markdown",
   "metadata": {},
   "source": []
  },
  {
   "cell_type": "code",
   "execution_count": 20,
   "metadata": {},
   "outputs": [
    {
     "name": "stdout",
     "output_type": "stream",
     "text": [
      "(2, 3, 4)\n",
      "tf.Tensor(\n",
      "[[[-1.479449    1.3990617   0.01903728  0.67589885]\n",
      "  [-0.22709864  1.5093849  -0.5903132  -0.5848523 ]\n",
      "  [ 0.3551799  -0.40080222 -0.3488569   0.36978364]]\n",
      "\n",
      " [[-0.14132558  1.9596094  -0.04908216  0.33752158]\n",
      "  [ 1.3395079   0.83750844 -0.6198384  -1.1216615 ]\n",
      "  [ 0.46773311  0.567563   -0.7452421  -0.2945392 ]]], shape=(2, 3, 4), dtype=float32)\n",
      "tf.Tensor(\n",
      "[[[-0.9156272   0.06839085 -2.066318    1.5897946 ]\n",
      "  [ 1.6354585  -0.04843885 -1.1372175   0.59033465]\n",
      "  [-1.50122     0.8940793  -1.3745195   1.243695  ]]\n",
      "\n",
      " [[-0.3804524   0.9856477   0.7098687   0.8892005 ]\n",
      "  [-0.29230708  0.69915384 -0.52520907  1.252141  ]\n",
      "  [ 0.24195376 -0.11928223 -0.46791038  0.3261903 ]]], shape=(2, 3, 4), dtype=float32)\n"
     ]
    },
    {
     "data": {
      "text/plain": [
       "<tf.Tensor: shape=(2, 3, 4), dtype=float32, numpy=\n",
       "array([[[-2.3950763 ,  1.4674525 , -2.0472808 ,  2.2656934 ],\n",
       "        [ 1.4083598 ,  1.4609461 , -1.7275307 ,  0.00548238],\n",
       "        [-1.1460401 ,  0.4932771 , -1.7233764 ,  1.6134787 ]],\n",
       "\n",
       "       [[-0.521778  ,  2.9452572 ,  0.66078657,  1.2267221 ],\n",
       "        [ 1.0472009 ,  1.5366623 , -1.1450474 ,  0.13047945],\n",
       "        [ 0.7096869 ,  0.44828075, -1.2131525 ,  0.03165108]]],\n",
       "      dtype=float32)>"
      ]
     },
     "execution_count": 20,
     "metadata": {},
     "output_type": "execute_result"
    }
   ],
   "source": [
    "input_shape = (2, 3, 4)\n",
    "x1 = tf.random.normal(input_shape)\n",
    "x2 = tf.random.normal(input_shape)\n",
    "y = tf.keras.layers.Add()([x1, x2])\n",
    "print(y.shape)\n",
    "print(x1)\n",
    "print(x2)\n",
    "y"
   ]
  },
  {
   "attachments": {},
   "cell_type": "markdown",
   "metadata": {},
   "source": [
    "## tf.keras.layers.Maximum ##"
   ]
  },
  {
   "cell_type": "code",
   "execution_count": 23,
   "metadata": {},
   "outputs": [
    {
     "name": "stdout",
     "output_type": "stream",
     "text": [
      "[[0]\n",
      " [1]\n",
      " [2]\n",
      " [3]\n",
      " [4]]\n",
      "[[5]\n",
      " [6]\n",
      " [7]\n",
      " [8]\n",
      " [9]]\n"
     ]
    },
    {
     "data": {
      "text/plain": [
       "<tf.Tensor: shape=(5, 1), dtype=int32, numpy=\n",
       "array([[5],\n",
       "       [6],\n",
       "       [7],\n",
       "       [8],\n",
       "       [9]])>"
      ]
     },
     "execution_count": 23,
     "metadata": {},
     "output_type": "execute_result"
    }
   ],
   "source": [
    "x1 = np.arange(5).reshape(5, 1)\n",
    "x2 = np.arange(5, 10).reshape(5, 1)\n",
    "print(x1)\n",
    "print(x2)\n",
    "\n",
    "tf.keras.layers.Maximum()([x1,x2])"
   ]
  }
 ],
 "metadata": {
  "kernelspec": {
   "display_name": "Python 3",
   "language": "python",
   "name": "python3"
  },
  "language_info": {
   "codemirror_mode": {
    "name": "ipython",
    "version": 3
   },
   "file_extension": ".py",
   "mimetype": "text/x-python",
   "name": "python",
   "nbconvert_exporter": "python",
   "pygments_lexer": "ipython3",
   "version": "3.9.16"
  },
  "orig_nbformat": 4
 },
 "nbformat": 4,
 "nbformat_minor": 2
}
