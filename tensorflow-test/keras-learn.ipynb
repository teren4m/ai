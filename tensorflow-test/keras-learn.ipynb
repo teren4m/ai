{
 "cells": [
  {
   "cell_type": "code",
   "execution_count": 1,
   "metadata": {},
   "outputs": [],
   "source": [
    "import numpy as np\n",
    "import tensorflow as tf\n",
    "from tensorflow.keras import layers"
   ]
  },
  {
   "attachments": {},
   "cell_type": "markdown",
   "metadata": {},
   "source": [
    "## Average layer ##"
   ]
  },
  {
   "cell_type": "code",
   "execution_count": 2,
   "metadata": {},
   "outputs": [
    {
     "data": {
      "text/plain": [
       "[[0.5, 0.5], [0.5, 0.5]]"
      ]
     },
     "execution_count": 2,
     "metadata": {},
     "output_type": "execute_result"
    }
   ],
   "source": [
    "x1 = np.ones((2, 2))\n",
    "x2 = np.zeros((2, 2))\n",
    "y = layers.Average()([x1, x2])\n",
    "y.numpy().tolist()"
   ]
  },
  {
   "attachments": {},
   "cell_type": "markdown",
   "metadata": {},
   "source": [
    "## AveragePooling1D layer ##"
   ]
  },
  {
   "cell_type": "code",
   "execution_count": 3,
   "metadata": {},
   "outputs": [
    {
     "name": "stdout",
     "output_type": "stream",
     "text": [
      "tf.Tensor(\n",
      "[[[1.]\n",
      "  [2.]\n",
      "  [3.]\n",
      "  [4.]\n",
      "  [5.]]], shape=(1, 5, 1), dtype=float32)\n"
     ]
    },
    {
     "data": {
      "text/plain": [
       "<tf.Tensor: shape=(1, 4, 1), dtype=float32, numpy=\n",
       "array([[[1.5],\n",
       "        [2.5],\n",
       "        [3.5],\n",
       "        [4.5]]], dtype=float32)>"
      ]
     },
     "execution_count": 3,
     "metadata": {},
     "output_type": "execute_result"
    }
   ],
   "source": [
    "x = tf.constant([1., 2., 3., 4., 5.])\n",
    "x = tf.reshape(x, [1, 5, 1])\n",
    "print(x)\n",
    "\n",
    "avg_pool_1d = layers.AveragePooling1D(pool_size=2,\n",
    "                                      strides=1, padding='valid')\n",
    "\n",
    "avg_pool_1d(x)\n"
   ]
  },
  {
   "attachments": {},
   "cell_type": "markdown",
   "metadata": {},
   "source": [
    "## Add ##"
   ]
  },
  {
   "cell_type": "code",
   "execution_count": 4,
   "metadata": {},
   "outputs": [
    {
     "name": "stdout",
     "output_type": "stream",
     "text": [
      "(2, 3, 4)\n",
      "tf.Tensor(\n",
      "[[[-0.6395944   0.8380353   0.84509504 -0.29003322]\n",
      "  [ 1.3343159   0.33062184 -0.7782147  -0.2705386 ]\n",
      "  [ 1.2622219  -0.03181163 -1.2524624   0.2573727 ]]\n",
      "\n",
      " [[-2.3103201   1.0183351   0.2104554  -0.518724  ]\n",
      "  [-0.5167592   0.3764867   0.25146618  1.1075107 ]\n",
      "  [ 0.9425947   0.8848871  -0.1734793   0.50328815]]], shape=(2, 3, 4), dtype=float32)\n",
      "tf.Tensor(\n",
      "[[[ 0.19266598 -0.28262863 -1.9563236  -0.6823861 ]\n",
      "  [ 0.6039349  -0.808786   -0.89309764  0.77679956]\n",
      "  [ 0.5076299  -0.57060647  0.36139554 -0.03958458]]\n",
      "\n",
      " [[ 0.0820324  -0.61572915  0.15259457  0.67806375]\n",
      "  [-0.16271578 -0.50928396  1.1224555  -0.38353616]\n",
      "  [-0.509515    1.9435595   0.4810734  -0.06707536]]], shape=(2, 3, 4), dtype=float32)\n"
     ]
    },
    {
     "data": {
      "text/plain": [
       "<tf.Tensor: shape=(2, 3, 4), dtype=float32, numpy=\n",
       "array([[[-0.44692838,  0.5554067 , -1.1112286 , -0.9724193 ],\n",
       "        [ 1.9382508 , -0.47816414, -1.6713123 ,  0.506261  ],\n",
       "        [ 1.7698518 , -0.6024181 , -0.89106685,  0.21778813]],\n",
       "\n",
       "       [[-2.2282877 ,  0.40260595,  0.36304998,  0.15933973],\n",
       "        [-0.679475  , -0.13279727,  1.3739216 ,  0.7239745 ],\n",
       "        [ 0.43307972,  2.8284466 ,  0.30759412,  0.43621278]]],\n",
       "      dtype=float32)>"
      ]
     },
     "execution_count": 4,
     "metadata": {},
     "output_type": "execute_result"
    }
   ],
   "source": [
    "input_shape = (2, 3, 4)\n",
    "x1 = tf.random.normal(input_shape)\n",
    "x2 = tf.random.normal(input_shape)\n",
    "y = tf.keras.layers.Add()([x1, x2])\n",
    "print(y.shape)\n",
    "print(x1)\n",
    "print(x2)\n",
    "y"
   ]
  },
  {
   "attachments": {},
   "cell_type": "markdown",
   "metadata": {},
   "source": [
    "## tf.keras.layers.Maximum ##"
   ]
  },
  {
   "cell_type": "code",
   "execution_count": 5,
   "metadata": {},
   "outputs": [
    {
     "name": "stdout",
     "output_type": "stream",
     "text": [
      "[[0]\n",
      " [1]\n",
      " [2]\n",
      " [3]\n",
      " [4]]\n",
      "[[5]\n",
      " [6]\n",
      " [7]\n",
      " [8]\n",
      " [9]]\n"
     ]
    },
    {
     "data": {
      "text/plain": [
       "<tf.Tensor: shape=(5, 1), dtype=int32, numpy=\n",
       "array([[5],\n",
       "       [6],\n",
       "       [7],\n",
       "       [8],\n",
       "       [9]])>"
      ]
     },
     "execution_count": 5,
     "metadata": {},
     "output_type": "execute_result"
    }
   ],
   "source": [
    "x1 = np.arange(5).reshape(5, 1)\n",
    "x2 = np.arange(5, 10).reshape(5, 1)\n",
    "print(x1)\n",
    "print(x2)\n",
    "\n",
    "tf.keras.layers.Maximum()([x1,x2])"
   ]
  },
  {
   "attachments": {},
   "cell_type": "markdown",
   "metadata": {},
   "source": [
    "## Normalization ##"
   ]
  },
  {
   "cell_type": "code",
   "execution_count": 6,
   "metadata": {},
   "outputs": [
    {
     "data": {
      "text/plain": [
       "<tf.Tensor: shape=(3,), dtype=float32, numpy=array([-1.4142135 , -0.70710677,  0.        ], dtype=float32)>"
      ]
     },
     "execution_count": 6,
     "metadata": {},
     "output_type": "execute_result"
    }
   ],
   "source": [
    "adapt_data = np.array([1., 2., 3., 4., 5.], dtype='float32')\n",
    "input_data = np.array([1., 2., 3.], dtype='float32')\n",
    "layer = tf.keras.layers.Normalization(axis=None)\n",
    "layer.adapt(adapt_data)\n",
    "layer(input_data)"
   ]
  }
 ],
 "metadata": {
  "kernelspec": {
   "display_name": "Python 3",
   "language": "python",
   "name": "python3"
  },
  "language_info": {
   "codemirror_mode": {
    "name": "ipython",
    "version": 3
   },
   "file_extension": ".py",
   "mimetype": "text/x-python",
   "name": "python",
   "nbconvert_exporter": "python",
   "pygments_lexer": "ipython3",
   "version": "3.9.16"
  },
  "orig_nbformat": 4
 },
 "nbformat": 4,
 "nbformat_minor": 2
}
