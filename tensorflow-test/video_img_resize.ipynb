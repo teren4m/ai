{
 "cells": [
  {
   "cell_type": "code",
   "execution_count": 28,
   "metadata": {},
   "outputs": [],
   "source": [
    "import numpy as np\n",
    "from pathlib import Path\n",
    "import cv2 as cv\n",
    "from IPython.display import Image\n",
    "from file_storage import model\n",
    "import constant\n",
    "import random\n",
    "import constant\n",
    "\n",
    "folder = Path('/files_storage')\n",
    "storage = model.Storage(folder, constant.resized_key)\n",
    "storage.init()"
   ]
  },
  {
   "cell_type": "code",
   "execution_count": 29,
   "metadata": {},
   "outputs": [],
   "source": [
    "def resize_img(img: np.ndarray):\n",
    "    width = img.shape[1]\n",
    "    height = img.shape[0]\n",
    "\n",
    "    if height < width:\n",
    "        img = np.rot90(img, k=1, axes=(0, 1))\n",
    "\n",
    "    width = img.shape[1]\n",
    "    height = img.shape[0]\n",
    "\n",
    "    resized_width = 500\n",
    "    factor = resized_width / width\n",
    "    resized_height = int(height * factor)\n",
    "    dim = (resized_width, resized_height)\n",
    "\n",
    "    # resize image\n",
    "    resized = cv.resize(img, dim, interpolation=cv.INTER_AREA)\n",
    "\n",
    "    padding = 150\n",
    "    blank_height = resized_height + padding * 2\n",
    "    blank_width = resized_width + padding * 2\n",
    "    blank_image = np.zeros((blank_height, blank_width, 3), np.uint8)\n",
    "    blank_image[:, :] = (0, 0, 0)      # (B, G, R)\n",
    "\n",
    "    w_start = padding\n",
    "    w_end = resized_width + padding\n",
    "    h_start = padding\n",
    "    h_end = resized_height + padding\n",
    "    blank_image[h_start:h_end, w_start:w_end] = resized\n",
    "\n",
    "    return blank_image\n"
   ]
  },
  {
   "cell_type": "code",
   "execution_count": 30,
   "metadata": {},
   "outputs": [
    {
     "name": "stdout",
     "output_type": "stream",
     "text": [
      "D:\\videos\\20230413_120604\\frames\\697_frame_raw.png\n",
      "done\n"
     ]
    }
   ],
   "source": [
    "\n",
    "p = Path('D:\\\\videos')\n",
    "\n",
    "images: list[str] = [str(x) for x in list(p.glob('**/*.png')) if x.is_file()]\n",
    "l = len(images)\n",
    "\n",
    "images_shufle = []\n",
    "for i in range(l):\n",
    "    index = random.randrange(len(images))\n",
    "    images_shufle.append(images.pop(index))\n",
    "\n",
    "redused_images = images_shufle[:1]\n",
    "\n",
    "for item in redused_images:\n",
    "    print(item)\n",
    "    img = cv.imread(item, cv.IMREAD_UNCHANGED)\n",
    "    img = resize_img(img)\n",
    "    r = storage.save_img(img, metadata={\n",
    "        'epoch': 'new1',\n",
    "        'predict': [[100, 100], [100, 200], [200, 200], [200, 100]],\n",
    "    })\n",
    "\n",
    "\n",
    "cv.imwrite('data/result.jpg', resize_img(img))\n",
    "Image(filename='data/result.jpg')\n",
    "\n",
    "# storage.remove_by_id(24875)\n",
    "print('done')\n"
   ]
  }
 ],
 "metadata": {
  "kernelspec": {
   "display_name": "Python 3",
   "language": "python",
   "name": "python3"
  },
  "language_info": {
   "codemirror_mode": {
    "name": "ipython",
    "version": 3
   },
   "file_extension": ".py",
   "mimetype": "text/x-python",
   "name": "python",
   "nbconvert_exporter": "python",
   "pygments_lexer": "ipython3",
   "version": "3.9.16"
  },
  "orig_nbformat": 4
 },
 "nbformat": 4,
 "nbformat_minor": 2
}
