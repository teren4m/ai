{
 "cells": [
  {
   "attachments": {},
   "cell_type": "markdown",
   "metadata": {},
   "source": [
    "## Vars ##"
   ]
  },
  {
   "cell_type": "code",
   "execution_count": 1,
   "metadata": {},
   "outputs": [],
   "source": [
    "from pathlib import Path\n",
    "\n",
    "path = Path('./project_vars.py')\n",
    "is_file_exist = path.is_file()\n",
    "\n",
    "if is_file_exist:\n",
    "    import project_vars\n",
    "\n",
    "is_write_to_results = False if not is_file_exist else project_vars.is_write_to_results\n",
    "save_itermidiate_results = False if not is_file_exist else project_vars.save_itermidiate_results\n",
    "\n",
    "if is_write_to_results:\n",
    "    import results as r\n",
    "\n",
    "def write_to_results(scores: float):\n",
    "    if is_write_to_results:\n",
    "        print(r.result(scores, 'data/results.json'))\n",
    "    else:\n",
    "        print(scores)"
   ]
  },
  {
   "attachments": {},
   "cell_type": "markdown",
   "metadata": {},
   "source": [
    "## Imports and Configuration ##"
   ]
  },
  {
   "cell_type": "code",
   "execution_count": 2,
   "metadata": {},
   "outputs": [
    {
     "name": "stdout",
     "output_type": "stream",
     "text": [
      "Python version\n",
      "3.11.0 (main, Oct 24 2022, 18:26:48) [MSC v.1933 64 bit (AMD64)]\n",
      "Version info.\n",
      "sys.version_info(major=3, minor=11, micro=0, releaselevel='final', serial=0)\n",
      "pandas\n",
      "1.5.3\n",
      "sklearn\n",
      "1.2.1\n",
      "xgboost\n",
      "1.7.3\n",
      "category_encoders\n",
      "2.6.0\n",
      "seaborn\n",
      "0.12.2\n",
      "matplotlib\n",
      "3.7.0\n",
      "False\n"
     ]
    },
    {
     "name": "stderr",
     "output_type": "stream",
     "text": [
      "C:\\Users\\annDo\\AppData\\Local\\Temp\\ipykernel_17404\\1737405471.py:49: MatplotlibDeprecationWarning: The seaborn styles shipped by Matplotlib are deprecated since 3.6, as they no longer correspond to the styles shipped by seaborn. However, they will remain available as 'seaborn-v0_8-<style>'. Alternatively, directly use the seaborn API instead.\n",
      "  plt.style.use(\"seaborn-whitegrid\")\n"
     ]
    }
   ],
   "source": [
    "import os\n",
    "import warnings\n",
    "\n",
    "import matplotlib as mpt\n",
    "import category_encoders as ce\n",
    "import xgboost as xgb\n",
    "import sklearn as skl\n",
    "import matplotlib.pyplot as plt\n",
    "import numpy as np\n",
    "import pandas as pd\n",
    "import seaborn as sns\n",
    "from IPython.display import display\n",
    "from pandas.api.types import CategoricalDtype\n",
    "\n",
    "from pandas.core.frame import DataFrame\n",
    "from category_encoders import MEstimateEncoder\n",
    "from sklearn.pipeline import Pipeline\n",
    "from sklearn.cluster import KMeans\n",
    "from sklearn.decomposition import PCA\n",
    "from sklearn.feature_selection import mutual_info_regression\n",
    "from sklearn.model_selection import KFold, cross_val_score\n",
    "from sklearn.compose import ColumnTransformer\n",
    "from sklearn.preprocessing import FunctionTransformer,OrdinalEncoder\n",
    "from xgboost import XGBRegressor\n",
    "from sklearn.ensemble import RandomForestRegressor\n",
    "from sklearn.impute import SimpleImputer\n",
    "\n",
    "import sys\n",
    "print(\"Python version\")\n",
    "print (sys.version)\n",
    "print(\"Version info.\")\n",
    "print (sys.version_info)\n",
    "\n",
    "print('pandas')\n",
    "print(pd.__version__)\n",
    "print('sklearn')\n",
    "print(skl.__version__)\n",
    "print('xgboost')\n",
    "print(xgb.__version__)\n",
    "print('category_encoders')\n",
    "print(ce.__version__)\n",
    "print('seaborn')\n",
    "print(sns.__version__)\n",
    "print('matplotlib')\n",
    "print(mpt.__version__)\n",
    "\n",
    "\n",
    "# Set Matplotlib defaults\n",
    "plt.style.use(\"seaborn-whitegrid\")\n",
    "plt.rc(\"figure\", autolayout=True)\n",
    "plt.rc(\n",
    "    \"axes\",\n",
    "    labelweight=\"bold\",\n",
    "    labelsize=\"large\",\n",
    "    titleweight=\"bold\",\n",
    "    titlesize=14,\n",
    "    titlepad=10,\n",
    ")\n",
    "\n",
    "# Mute warnings\n",
    "warnings.filterwarnings('ignore')\n",
    "\n",
    "y_column_name = 'SalePrice'\n",
    "\n",
    "def to_dataframe(index, columns):\n",
    "    return FunctionTransformer(lambda X: pd.DataFrame(X, index=index, columns=columns))\n",
    "\n",
    "path = Path('./vars.py')\n",
    "\n",
    "print(path.is_file())\n"
   ]
  },
  {
   "attachments": {},
   "cell_type": "markdown",
   "metadata": {},
   "source": [
    "## Load data ##"
   ]
  },
  {
   "cell_type": "code",
   "execution_count": 3,
   "metadata": {},
   "outputs": [],
   "source": [
    "data_dir = Path(\"../input/house-prices-advanced-regression-techniques/\")\n",
    "df_train = pd.read_csv(data_dir / \"train.csv\", index_col=\"Id\")\n",
    "df_test = pd.read_csv(data_dir / \"test.csv\", index_col=\"Id\")\n",
    "# Merge the splits so we can process them together\n",
    "df_in = pd.concat([df_train, df_test])\n"
   ]
  },
  {
   "attachments": {},
   "cell_type": "markdown",
   "metadata": {},
   "source": [
    "## Score dataset ##"
   ]
  },
  {
   "cell_type": "code",
   "execution_count": 4,
   "metadata": {},
   "outputs": [],
   "source": [
    "def score_dataset(X, y, model=XGBRegressor(), n_jobs=None):\n",
    "    # Metric for Housing competition is RMSLE (Root Mean Squared Log Error)\n",
    "    log_y = np.log(y)\n",
    "    score = cross_val_score(\n",
    "        model, X, log_y, cv=5, scoring=\"neg_mean_squared_error\", n_jobs=n_jobs,\n",
    "    )\n",
    "    score = -1 * score.mean()\n",
    "    score = np.sqrt(score)\n",
    "    return score\n"
   ]
  },
  {
   "attachments": {},
   "cell_type": "markdown",
   "metadata": {},
   "source": [
    "## Preprocess data ##"
   ]
  },
  {
   "attachments": {},
   "cell_type": "markdown",
   "metadata": {},
   "source": [
    "### Clean Data ###"
   ]
  },
  {
   "cell_type": "code",
   "execution_count": 5,
   "metadata": {},
   "outputs": [],
   "source": [
    "def clean(df: DataFrame):\n",
    "    df[\"Exterior2nd\"] = df[\"Exterior2nd\"].replace({\"Brk Cmn\": \"BrkComm\"})\n",
    "    # Some values of GarageYrBlt are corrupt, so we'll replace them\n",
    "    # with the year the house was built\n",
    "    df[\"GarageYrBlt\"] = df[\"GarageYrBlt\"].where(\n",
    "        df.GarageYrBlt <= 2010, df.YearBuilt)\n",
    "    # Names beginning with numbers are awkward to work with\n",
    "    df.rename(columns={\n",
    "        \"1stFlrSF\": \"FirstFlrSF\",\n",
    "        \"2ndFlrSF\": \"SecondFlrSF\",\n",
    "        \"3SsnPorch\": \"Threeseasonporch\",\n",
    "    }, inplace=True,\n",
    "    )\n",
    "    return df\n",
    "\n",
    "df_in = df_in[df_in.LotArea < 100000]\n",
    "df_train = df_train[df_train.LotArea < 100000]\n",
    "df_in = clean(df_in)\n"
   ]
  },
  {
   "attachments": {},
   "cell_type": "markdown",
   "metadata": {},
   "source": [
    "### Encode nominative (unordered) categorical features ###"
   ]
  },
  {
   "cell_type": "code",
   "execution_count": 6,
   "metadata": {},
   "outputs": [],
   "source": [
    "features_nominative = [\n",
    "    \"MSSubClass\", \"MSZoning\",\n",
    "    \"Street\", \"Alley\",\n",
    "    \"LandContour\", \"LotConfig\",\n",
    "    \"Neighborhood\", \"Condition1\",\n",
    "    \"Condition2\", \"BldgType\",\n",
    "    \"HouseStyle\", \"RoofStyle\",\n",
    "    \"RoofMatl\", \"Exterior1st\",\n",
    "    \"Exterior2nd\", \"MasVnrType\",\n",
    "    \"Foundation\", \"Heating\",\n",
    "     \"GarageType\",\n",
    "    \"MiscFeature\", \"SaleType\",\n",
    "    \"SaleCondition\"\n",
    "]\n",
    "\n",
    "for name in features_nominative:\n",
    "    df_in[name] = df_in[name].astype(\"category\")\n",
    "\n",
    "categorical_nominative_transformer = Pipeline(steps=[\n",
    "    ('imputer', SimpleImputer(\n",
    "        strategy='constant',\n",
    "        missing_values=np.nan,\n",
    "        fill_value='None')),\n",
    "    ('encoder', OrdinalEncoder(handle_unknown='use_encoded_value', unknown_value=np.nan)),\n",
    "])\n"
   ]
  },
  {
   "attachments": {},
   "cell_type": "markdown",
   "metadata": {},
   "source": [
    "### Encode the ordinal (ordered) categorical features ###"
   ]
  },
  {
   "cell_type": "code",
   "execution_count": 7,
   "metadata": {},
   "outputs": [],
   "source": [
    "# Pandas calls the categories \"levels\"\n",
    "five_levels = [\"Po\", \"Fa\", \"TA\", \"Gd\", \"Ex\"]\n",
    "ten_levels = list(range(1,11))\n",
    "\n",
    "ordered_levels_int = {\n",
    "    \"OverallQual\": ten_levels,\n",
    "    \"OverallCond\": ten_levels,\n",
    "}\n",
    "\n",
    "ordered_levels = {\n",
    "    \"ExterQual\": five_levels,\n",
    "    \"ExterCond\": five_levels,\n",
    "    \"BsmtQual\": five_levels,\n",
    "    \"BsmtCond\": five_levels,\n",
    "    \"HeatingQC\": five_levels,\n",
    "    \"KitchenQual\": five_levels,\n",
    "    \"FireplaceQu\": five_levels,\n",
    "    \"GarageQual\": five_levels,\n",
    "    \"GarageCond\": five_levels,\n",
    "    \"PoolQC\": five_levels,\n",
    "    \"LotShape\": [\"Reg\", \"IR1\", \"IR2\", \"IR3\"],\n",
    "    \"LandSlope\": [\"Sev\", \"Mod\", \"Gtl\"],\n",
    "    \"BsmtExposure\": [\"No\", \"Mn\", \"Av\", \"Gd\"],\n",
    "    \"BsmtFinType1\": [\"Unf\", \"LwQ\", \"Rec\", \"BLQ\", \"ALQ\", \"GLQ\"],\n",
    "    \"BsmtFinType2\": [\"Unf\", \"LwQ\", \"Rec\", \"BLQ\", \"ALQ\", \"GLQ\"],\n",
    "    \"Functional\": [\"Sal\", \"Sev\", \"Maj1\", \"Maj2\", \"Mod\", \"Min2\", \"Min1\", \"Typ\"],\n",
    "    \"GarageFinish\": [\"Unf\", \"RFn\", \"Fin\"],\n",
    "    \"PavedDrive\": [\"N\", \"P\", \"Y\"],\n",
    "    \"Utilities\": [\"NoSeWa\", \"NoSewr\", \"AllPub\"],\n",
    "    \"CentralAir\": [\"N\", \"Y\"],\n",
    "    \"Electrical\": [\"Mix\", \"FuseP\", \"FuseF\", \"FuseA\", \"SBrkr\"],\n",
    "    \"Fence\": [\"MnWw\", \"GdWo\", \"MnPrv\", \"GdPrv\"],\n",
    "}\n",
    "\n",
    "features_ordered = list(ordered_levels.keys())\n",
    "features_ordered_int = list(ordered_levels_int.keys())\n",
    "\n",
    "for name, levels in ordered_levels.items():\n",
    "    df_in[name] = df_in[name].astype(CategoricalDtype(levels, ordered=True))\n",
    "\n",
    "for name, levels in ordered_levels_int.items():\n",
    "    df_in[name] = df_in[name].astype(CategoricalDtype(levels, ordered=True))\n",
    "\n",
    "categorical_ordinal_int_transformer = Pipeline(\n",
    "    steps=[\n",
    "         ('imputer', SimpleImputer(\n",
    "            strategy='constant',\n",
    "            missing_values=np.nan,\n",
    "            fill_value=0)),\n",
    "        ('encoder', OrdinalEncoder(\n",
    "            handle_unknown='use_encoded_value', unknown_value=np.nan)),\n",
    "    ]\n",
    ")\n",
    "\n",
    "categorical_ordinal_transformer = Pipeline(\n",
    "    steps=[\n",
    "        ('imputer', SimpleImputer(\n",
    "            strategy='constant',\n",
    "            missing_values=np.nan,\n",
    "            fill_value='None')),\n",
    "        ('encoder', OrdinalEncoder(\n",
    "            handle_unknown='use_encoded_value', unknown_value=np.nan)),\n",
    "    ]\n",
    ")\n"
   ]
  },
  {
   "attachments": {},
   "cell_type": "markdown",
   "metadata": {},
   "source": [
    "### Numerical data transform ###"
   ]
  },
  {
   "cell_type": "code",
   "execution_count": 8,
   "metadata": {},
   "outputs": [
    {
     "name": "stdout",
     "output_type": "stream",
     "text": [
      "['BedroomAbvGr', 'BsmtFinSF1', 'BsmtFinSF2', 'BsmtFullBath', 'BsmtHalfBath', 'BsmtUnfSF', 'EnclosedPorch', 'Fireplaces', 'FirstFlrSF', 'FullBath', 'GarageArea', 'GarageCars', 'GarageYrBlt', 'GrLivArea', 'HalfBath', 'KitchenAbvGr', 'LotArea', 'LotFrontage', 'LowQualFinSF', 'MasVnrArea', 'MiscVal', 'MoSold', 'OpenPorchSF', 'PoolArea', 'ScreenPorch', 'SecondFlrSF', 'Threeseasonporch', 'TotRmsAbvGrd', 'TotalBsmtSF', 'WoodDeckSF', 'YearBuilt', 'YearRemodAdd', 'YrSold']\n"
     ]
    }
   ],
   "source": [
    "test_exclude = ['MasVnrArea', 'BsmtFullBath', 'BsmtHalfBath',\n",
    "                'BsmtFinSF1', 'BsmtFinSF2', 'BsmtUnfSF', 'GarageArea', 'GarageCars', 'TotalBsmtSF']\n",
    "\n",
    "features_num = list(df_in.select_dtypes(\n",
    "    include=np.number).columns.difference([y_column_name]))\n",
    "\n",
    "# features_num = ['LotArea', 'LotFrontage']\n",
    "\n",
    "print(list(features_num))\n",
    "\n",
    "numerical_constant_transformer = Pipeline(steps=[\n",
    "    ('imputer_constant', SimpleImputer(strategy='constant', fill_value=0,\n",
    "     missing_values=np.nan)),\n",
    "])\n"
   ]
  },
  {
   "attachments": {},
   "cell_type": "markdown",
   "metadata": {},
   "source": [
    "## Setup pipeline ##"
   ]
  },
  {
   "cell_type": "code",
   "execution_count": 9,
   "metadata": {},
   "outputs": [
    {
     "name": "stdout",
     "output_type": "stream",
     "text": [
      "[ColumnTransformer] .. (1 of 5) Processing num_constant, total=   0.0s\n",
      "[ColumnTransformer]  (2 of 5) Processing cat_nominative, total=   0.0s\n",
      "[ColumnTransformer] ... (3 of 5) Processing cat_ordered, total=   0.0s\n",
      "[ColumnTransformer]  (4 of 5) Processing cat_ordered_int, total=   0.0s\n",
      "[ColumnTransformer] ......... (5 of 5) Processing price, total=   0.0s\n",
      "[Pipeline] ............ (step 1 of 2) Processing encode, total=   0.0s\n",
      "[Pipeline] ......... (step 2 of 2) Processing dataframe, total=   0.0s\n"
     ]
    }
   ],
   "source": [
    "column_transformer = ColumnTransformer(\n",
    "    verbose_feature_names_out=False,\n",
    "    transformers=[\n",
    "        ('num_constant', numerical_constant_transformer, features_num),\n",
    "        ('cat_nominative', categorical_nominative_transformer, features_nominative),\n",
    "        ('cat_ordered', categorical_ordinal_transformer, features_ordered),\n",
    "        ('cat_ordered_int', categorical_ordinal_int_transformer, features_ordered_int),\n",
    "        ('price', 'passthrough', [y_column_name]),\n",
    "    ], verbose=True)\n",
    "\n",
    "\n",
    "transform_pipeline = Pipeline(steps=[\n",
    "    ('encode', column_transformer),\n",
    "    ('dataframe', to_dataframe(df_in.index,\n",
    "                               features_num +\n",
    "                               features_nominative +\n",
    "                               features_ordered +\n",
    "                               features_ordered_int +\n",
    "                               [y_column_name]\n",
    "                               )),\n",
    "], verbose=True)\n",
    "\n",
    "transformed_df = transform_pipeline.fit_transform(df_in)\n",
    "\n",
    "\n",
    "df_train = transformed_df.loc[df_train.index, :]\n",
    "df_test = transformed_df.loc[df_test.index, :]\n",
    "\n",
    "y: DataFrame = df_train.pop('SalePrice')\n",
    "X: DataFrame = df_train\n",
    "\n",
    "if save_itermidiate_results:\n",
    "    y.to_csv('data/y.csv')\n",
    "    X.to_csv('data/X.csv')\n",
    "\n",
    "df_test.pop('SalePrice')\n",
    "X_test = df_test\n"
   ]
  },
  {
   "attachments": {},
   "cell_type": "markdown",
   "metadata": {},
   "source": [
    "## XGBRegressor params ##"
   ]
  },
  {
   "cell_type": "code",
   "execution_count": 10,
   "metadata": {},
   "outputs": [],
   "source": [
    "xgb_params = {\n",
    "    \"max_delta_step\": 6.0,\n",
    "    \"eta\": 0.248,\n",
    "    \"colsample_bytree\": 0.234,\n",
    "    \"colsample_bylevel\": 0.855,\n",
    "    \"colsample_bynode\": 0.67,\n",
    "    \"max_depth\": 3,\n",
    "    \"learning_rate\": 0.01926536672403492,\n",
    "    \"n_estimators\": 2974,\n",
    "    \"min_child_weight\": 1,\n",
    "    \"subsample\": 0.6020477193081436,\n",
    "    \"reg_alpha\": 0.00522653797861164,\n",
    "    \"reg_lambda\": 0.04226667783580202,\n",
    "    \"predictor\": \"cpu_predictor\",\n",
    "    \"num_parallel_tree\": 6,\n",
    "    \"gamma\": 0\n",
    "}\n"
   ]
  },
  {
   "attachments": {},
   "cell_type": "markdown",
   "metadata": {},
   "source": [
    "## Setup model ##"
   ]
  },
  {
   "cell_type": "code",
   "execution_count": 11,
   "metadata": {},
   "outputs": [
    {
     "name": "stdout",
     "output_type": "stream",
     "text": [
      "[Pipeline] ............. (step 1 of 1) Processing model, total=   3.6s\n",
      "[Pipeline] ............. (step 1 of 1) Processing model, total=   3.6s\n",
      "[Pipeline] ............. (step 1 of 1) Processing model, total=   3.6s\n",
      "[Pipeline] ............. (step 1 of 1) Processing model, total=   3.6s\n",
      "[Pipeline] ............. (step 1 of 1) Processing model, total=   3.6s\n",
      "{'prev': 0.11720723019509208, 'curr': 0.11696939948027624, 'best': 0.11696939948027624}\n"
     ]
    }
   ],
   "source": [
    "model = XGBRegressor(random_state=0, nthread=9, **xgb_params)\n",
    "pipeline = Pipeline(steps=[\n",
    "    ('model', model)\n",
    "], verbose=True)\n",
    "\n",
    "scores = score_dataset(X, y, model=pipeline)\n",
    "\n",
    "write_to_results(scores)\n"
   ]
  },
  {
   "attachments": {},
   "cell_type": "markdown",
   "metadata": {},
   "source": [
    "# Train Model and Create Submissions #"
   ]
  },
  {
   "cell_type": "code",
   "execution_count": null,
   "metadata": {},
   "outputs": [],
   "source": [
    "xgb = XGBRegressor(random_state=0, **xgb_params)\n",
    "xgb.fit(X, np.log(y))\n",
    "predictions = np.exp(xgb.predict(X_test))\n",
    "\n",
    "output = pd.DataFrame({'Id': X_test.index, 'SalePrice': predictions})\n",
    "output.to_csv('my_submission.csv', index=False)\n",
    "print(\"Your submission was successfully saved!\")\n"
   ]
  }
 ],
 "metadata": {
  "kernelspec": {
   "display_name": ".venv",
   "language": "python",
   "name": "python3"
  },
  "language_info": {
   "codemirror_mode": {
    "name": "ipython",
    "version": 3
   },
   "file_extension": ".py",
   "mimetype": "text/x-python",
   "name": "python",
   "nbconvert_exporter": "python",
   "pygments_lexer": "ipython3",
   "version": "3.11.0"
  },
  "orig_nbformat": 4,
  "vscode": {
   "interpreter": {
    "hash": "ac50c5aa4e15216d19d3b7167f93d59ed672a4f5fd2eb8af64e7f0aefedf61f8"
   }
  }
 },
 "nbformat": 4,
 "nbformat_minor": 2
}
