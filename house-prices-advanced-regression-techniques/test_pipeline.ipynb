{
 "cells": [
  {
   "attachments": {},
   "cell_type": "markdown",
   "metadata": {},
   "source": [
    "## Imports and Configuration ##"
   ]
  },
  {
   "cell_type": "code",
   "execution_count": null,
   "metadata": {},
   "outputs": [],
   "source": [
    "import results as r\n",
    "import os\n",
    "import warnings\n",
    "from pathlib import Path\n",
    "\n",
    "import optuna\n",
    "import matplotlib as mpt\n",
    "import category_encoders as ce\n",
    "import xgboost as xgb\n",
    "import sklearn as skl\n",
    "import matplotlib.pyplot as plt\n",
    "import numpy as np\n",
    "import pandas as pd\n",
    "import seaborn as sns\n",
    "from IPython.display import display\n",
    "from pandas.api.types import CategoricalDtype\n",
    "\n",
    "from pandas.core.frame import DataFrame\n",
    "from category_encoders import MEstimateEncoder\n",
    "from sklearn.pipeline import Pipeline\n",
    "from sklearn.cluster import KMeans\n",
    "from sklearn.decomposition import PCA\n",
    "from sklearn.feature_selection import mutual_info_regression\n",
    "from sklearn.model_selection import KFold, cross_val_score\n",
    "from sklearn.compose import ColumnTransformer\n",
    "from sklearn.preprocessing import FunctionTransformer,OrdinalEncoder\n",
    "from xgboost import XGBRegressor\n",
    "from sklearn.ensemble import RandomForestRegressor\n",
    "from sklearn.impute import SimpleImputer\n",
    "\n",
    "print('pandas')\n",
    "print(pd.__version__)\n",
    "print('sklearn')\n",
    "print(skl.__version__)\n",
    "print('xgboost')\n",
    "print(xgb.__version__)\n",
    "print('category_encoders')\n",
    "print(ce.__version__)\n",
    "print('seaborn')\n",
    "print(sns.__version__)\n",
    "print('matplotlib')\n",
    "print(mpt.__version__)\n",
    "\n",
    "\n",
    "# Set Matplotlib defaults\n",
    "plt.style.use(\"seaborn-whitegrid\")\n",
    "plt.rc(\"figure\", autolayout=True)\n",
    "plt.rc(\n",
    "    \"axes\",\n",
    "    labelweight=\"bold\",\n",
    "    labelsize=\"large\",\n",
    "    titleweight=\"bold\",\n",
    "    titlesize=14,\n",
    "    titlepad=10,\n",
    ")\n",
    "\n",
    "# Mute warnings\n",
    "warnings.filterwarnings('ignore')\n",
    "\n",
    "y_column_name = 'SalePrice'\n",
    "\n",
    "def to_dataframe(index, columns):\n",
    "    return FunctionTransformer(lambda X: pd.DataFrame(X, index=index, columns=columns))\n"
   ]
  },
  {
   "attachments": {},
   "cell_type": "markdown",
   "metadata": {},
   "source": [
    "## Load data ##"
   ]
  },
  {
   "cell_type": "code",
   "execution_count": null,
   "metadata": {},
   "outputs": [],
   "source": [
    "data_dir = Path(\"../input/house-prices-advanced-regression-techniques/\")\n",
    "df_train = pd.read_csv(data_dir / \"train.csv\", index_col=\"Id\")\n",
    "df_test = pd.read_csv(data_dir / \"test.csv\", index_col=\"Id\")\n",
    "# Merge the splits so we can process them together\n",
    "df_in = pd.concat([df_train, df_test])\n"
   ]
  },
  {
   "attachments": {},
   "cell_type": "markdown",
   "metadata": {},
   "source": [
    "## Score dataset ##"
   ]
  },
  {
   "cell_type": "code",
   "execution_count": null,
   "metadata": {},
   "outputs": [],
   "source": [
    "def score_dataset(X, y, model=XGBRegressor()):\n",
    "    # Metric for Housing competition is RMSLE (Root Mean Squared Log Error)\n",
    "    log_y = np.log(y)\n",
    "    score = cross_val_score(\n",
    "        model, X, log_y, cv=5, scoring=\"neg_mean_squared_error\",\n",
    "    )\n",
    "    score = -1 * score.mean()\n",
    "    score = np.sqrt(score)\n",
    "    return score\n"
   ]
  },
  {
   "cell_type": "code",
   "execution_count": null,
   "metadata": {},
   "outputs": [],
   "source": [
    "def optimize_params(optimize_X, optimize_y, n_trials=10):\n",
    "    def objective(trial):\n",
    "        xgb_params = dict(\n",
    "            predictor='cpu_predictor',\n",
    "            num_parallel_tree=4,\n",
    "            gamma=0,\n",
    "            max_delta_step=trial.suggest_discrete_uniform(\n",
    "                'max_delta_step', 0, 10, 0.1),\n",
    "            eta=trial.suggest_discrete_uniform(\n",
    "                'eta', 0.1, 1.0, 0.001),\n",
    "            colsample_bytree=trial.suggest_discrete_uniform(\n",
    "                'colsample_bytree', 0.1, 1.0, 0.001),\n",
    "            colsample_bylevel=trial.suggest_discrete_uniform(\n",
    "                'colsample_bylevel', 0.1, 1.0, 0.001),\n",
    "            colsample_bynode=trial.suggest_discrete_uniform(\n",
    "                'colsample_bynode', 0.1, 1.0, 0.001),\n",
    "            max_depth=trial.suggest_int(\"max_depth\", 2, 8),\n",
    "            learning_rate=trial.suggest_float(\n",
    "                \"learning_rate\", 1e-4, 1e-1, log=True),\n",
    "            n_estimators=trial.suggest_int(\"n_estimators\", 1000, 6000),\n",
    "            min_child_weight=trial.suggest_int(\"min_child_weight\", 1, 5),\n",
    "            subsample=trial.suggest_float(\"subsample\", 0.2, 1.0),\n",
    "            reg_alpha=trial.suggest_float(\"reg_alpha\", 1e-4, 1e2, log=True),\n",
    "            reg_lambda=trial.suggest_float(\"reg_lambda\", 1e-4, 1e2, log=True),\n",
    "        )\n",
    "        xgb = XGBRegressor(random_state=0, **xgb_params)\n",
    "        return score_dataset(optimize_X, optimize_y, xgb)\n",
    "    study = optuna.create_study(direction=\"minimize\")\n",
    "    study.optimize(objective, n_trials=n_trials)\n",
    "    return study.best_params\n"
   ]
  },
  {
   "attachments": {},
   "cell_type": "markdown",
   "metadata": {},
   "source": [
    "## Preprocess data ##"
   ]
  },
  {
   "attachments": {},
   "cell_type": "markdown",
   "metadata": {},
   "source": [
    "### Clean Data ###"
   ]
  },
  {
   "cell_type": "code",
   "execution_count": null,
   "metadata": {},
   "outputs": [],
   "source": [
    "def clean(df: DataFrame):\n",
    "    df[\"Exterior2nd\"] = df[\"Exterior2nd\"].replace({\"Brk Cmn\": \"BrkComm\"})\n",
    "    # Some values of GarageYrBlt are corrupt, so we'll replace them\n",
    "    # with the year the house was built\n",
    "    df[\"GarageYrBlt\"] = df[\"GarageYrBlt\"].where(\n",
    "        df.GarageYrBlt <= 2010, df.YearBuilt)\n",
    "    # Names beginning with numbers are awkward to work with\n",
    "    df.rename(columns={\n",
    "        \"1stFlrSF\": \"FirstFlrSF\",\n",
    "        \"2ndFlrSF\": \"SecondFlrSF\",\n",
    "        \"3SsnPorch\": \"Threeseasonporch\",\n",
    "    }, inplace=True,\n",
    "    )\n",
    "    return df\n",
    "\n",
    "df_in = df_in[df_in.LotArea < 100000]\n",
    "df_train = df_train[df_train.LotArea < 100000]\n",
    "df_in = clean(df_in)\n"
   ]
  },
  {
   "attachments": {},
   "cell_type": "markdown",
   "metadata": {},
   "source": [
    "### Encode nominative (unordered) categorical features ###"
   ]
  },
  {
   "cell_type": "code",
   "execution_count": null,
   "metadata": {},
   "outputs": [],
   "source": [
    "features_nominative = [\n",
    "    \"MSSubClass\", \"MSZoning\",\n",
    "    \"Street\", \"Alley\",\n",
    "    \"LandContour\", \"LotConfig\",\n",
    "    \"Neighborhood\", \"Condition1\",\n",
    "    \"Condition2\", \"BldgType\",\n",
    "    \"HouseStyle\", \"RoofStyle\",\n",
    "    \"RoofMatl\", \"Exterior1st\",\n",
    "    \"Exterior2nd\", \"MasVnrType\",\n",
    "    \"Foundation\", \"Heating\",\n",
    "     \"GarageType\",\n",
    "    \"MiscFeature\", \"SaleType\",\n",
    "    \"SaleCondition\"\n",
    "]\n",
    "\n",
    "for name in features_nominative:\n",
    "    df_in[name] = df_in[name].astype(\"category\")\n",
    "\n",
    "categorical_nominative_transformer = Pipeline(steps=[\n",
    "    ('imputer', SimpleImputer(\n",
    "        strategy='constant',\n",
    "        missing_values=np.nan,\n",
    "        fill_value='None')),\n",
    "    ('encoder', OrdinalEncoder(handle_unknown='use_encoded_value', unknown_value=np.nan)),\n",
    "])\n"
   ]
  },
  {
   "attachments": {},
   "cell_type": "markdown",
   "metadata": {},
   "source": [
    "### Encode the ordinal (ordered) categorical features ###"
   ]
  },
  {
   "cell_type": "code",
   "execution_count": null,
   "metadata": {},
   "outputs": [],
   "source": [
    "# Pandas calls the categories \"levels\"\n",
    "five_levels = [\"Po\", \"Fa\", \"TA\", \"Gd\", \"Ex\"]\n",
    "ten_levels = list(range(10))\n",
    "\n",
    "ordered_levels_int = {\n",
    "    \"OverallQual\": ten_levels,\n",
    "    \"OverallCond\": ten_levels,\n",
    "}\n",
    "\n",
    "ordered_levels = {\n",
    "    \"ExterQual\": five_levels,\n",
    "    \"ExterCond\": five_levels,\n",
    "    \"BsmtQual\": five_levels,\n",
    "    \"BsmtCond\": five_levels,\n",
    "    \"HeatingQC\": five_levels,\n",
    "    \"KitchenQual\": five_levels,\n",
    "    \"FireplaceQu\": five_levels,\n",
    "    \"GarageQual\": five_levels,\n",
    "    \"GarageCond\": five_levels,\n",
    "    \"PoolQC\": five_levels,\n",
    "    \"LotShape\": [\"Reg\", \"IR1\", \"IR2\", \"IR3\"],\n",
    "    \"LandSlope\": [\"Sev\", \"Mod\", \"Gtl\"],\n",
    "    \"BsmtExposure\": [\"No\", \"Mn\", \"Av\", \"Gd\"],\n",
    "    \"BsmtFinType1\": [\"Unf\", \"LwQ\", \"Rec\", \"BLQ\", \"ALQ\", \"GLQ\"],\n",
    "    \"BsmtFinType2\": [\"Unf\", \"LwQ\", \"Rec\", \"BLQ\", \"ALQ\", \"GLQ\"],\n",
    "    \"Functional\": [\"Sal\", \"Sev\", \"Maj1\", \"Maj2\", \"Mod\", \"Min2\", \"Min1\", \"Typ\"],\n",
    "    \"GarageFinish\": [\"Unf\", \"RFn\", \"Fin\"],\n",
    "    \"PavedDrive\": [\"N\", \"P\", \"Y\"],\n",
    "    \"Utilities\": [\"NoSeWa\", \"NoSewr\", \"AllPub\"],\n",
    "    \"CentralAir\": [\"N\", \"Y\"],\n",
    "    \"Electrical\": [\"Mix\", \"FuseP\", \"FuseF\", \"FuseA\", \"SBrkr\"],\n",
    "    \"Fence\": [\"MnWw\", \"GdWo\", \"MnPrv\", \"GdPrv\"],\n",
    "}\n",
    "\n",
    "features_ordered = list(ordered_levels.keys())\n",
    "\n",
    "for name, levels in ordered_levels.items():\n",
    "    df_in[name] = df_in[name].astype(CategoricalDtype(levels, ordered=True))\n",
    "\n",
    "categorical_ordinal_transformer = Pipeline(\n",
    "    steps=[\n",
    "        ('imputer', SimpleImputer(\n",
    "            strategy='constant',\n",
    "            missing_values=np.nan,\n",
    "            fill_value='None')),\n",
    "        ('encoder', OrdinalEncoder(\n",
    "            handle_unknown='use_encoded_value', unknown_value=np.nan)),\n",
    "    ]\n",
    ")\n"
   ]
  },
  {
   "attachments": {},
   "cell_type": "markdown",
   "metadata": {},
   "source": [
    "### Numerical data transform ###"
   ]
  },
  {
   "cell_type": "code",
   "execution_count": null,
   "metadata": {},
   "outputs": [],
   "source": [
    "test_exclude = ['MasVnrArea', 'BsmtFullBath', 'BsmtHalfBath',\n",
    "                'BsmtFinSF1', 'BsmtFinSF2', 'BsmtUnfSF', 'GarageArea', 'GarageCars', 'TotalBsmtSF']\n",
    "\n",
    "features_num = list(df_in.select_dtypes(\n",
    "    include=np.number).columns.difference([y_column_name]))\n",
    "\n",
    "# features_num = ['LotArea', 'LotFrontage']\n",
    "\n",
    "print(list(features_num))\n",
    "\n",
    "numerical_constant_transformer = Pipeline(steps=[\n",
    "    ('imputer_constant', SimpleImputer(strategy='constant', fill_value=0,\n",
    "     missing_values=np.nan)),\n",
    "])\n"
   ]
  },
  {
   "attachments": {},
   "cell_type": "markdown",
   "metadata": {},
   "source": [
    "## Numerical data sndbox ##"
   ]
  },
  {
   "cell_type": "code",
   "execution_count": null,
   "metadata": {},
   "outputs": [],
   "source": [
    "df_features_num = df_in[features_num]\n",
    "df_features_num_nan = pd.isna(df_features_num)\n",
    "l = len(df_features_num_nan.index)\n",
    "df_nan_ratio = df_features_num_nan.sum() / l\n",
    "df_nan_ratio.loc[df_nan_ratio > 0].sort_values(ascending=False)\n",
    "\n",
    "# df_area_vs_frontage = df_features_num[['LotArea','LotFrontage']]\n",
    "\n",
    "# from sklearn.tree import DecisionTreeRegressor\n",
    "\n",
    "# melbourne_model = DecisionTreeRegressor(random_state=1)\n",
    "\n",
    "# # melbourne_model.fit(X, y)\n",
    "\n",
    "# # df_area_vs_frontage = df_area_vs_frontage.loc[pd.notna(df_area_vs_frontage.LotFrontage)]\n",
    "# df_area_vs_frontage = df_area_vs_frontage.loc[df_train.index, :]\n",
    "# sns.scatterplot(x=df_area_vs_frontage['LotArea'], y=df_area_vs_frontage['LotFrontage'])\n",
    "\n"
   ]
  },
  {
   "cell_type": "code",
   "execution_count": null,
   "metadata": {},
   "outputs": [],
   "source": [
    "numerical_sandbox_transformer = ColumnTransformer(\n",
    "    verbose_feature_names_out=False,\n",
    "    transformers=[\n",
    "        ('num_default', numerical_constant_transformer, features_num),\n",
    "        ('price', 'passthrough', [y_column_name]),\n",
    "    ])\n",
    "\n",
    "numerical_sandbox_pipeline = Pipeline(steps=[\n",
    "    ('transformer', numerical_sandbox_transformer),\n",
    "    ('dataframe', to_dataframe(df_in.index, features_num + [y_column_name])),\n",
    "])\n",
    "\n",
    "sandbox_num_df = numerical_sandbox_pipeline.fit_transform(df_in)\n",
    "\n",
    "sandbox_num_df_train = sandbox_num_df.loc[df_train.index, :]\n",
    "sandbox_num_y = sandbox_num_df_train.pop('SalePrice')\n",
    "sandbox_num_X = sandbox_num_df_train\n"
   ]
  },
  {
   "cell_type": "code",
   "execution_count": null,
   "metadata": {},
   "outputs": [],
   "source": [
    "# xgb_params_optimize = optimize_params(sandbox_num_X, sandbox_num_y, n_trials=40)\n",
    "# print(xgb_params_optimize)"
   ]
  },
  {
   "cell_type": "code",
   "execution_count": null,
   "metadata": {},
   "outputs": [],
   "source": [
    "sandbox_num_params = {\n",
    "    'num_parallel_tree': 5,\n",
    "    'predictor': 'cpu_predictor',\n",
    "    'max_depth': 3, \n",
    "    'learning_rate': 0.01310022730134661, \n",
    "    'n_estimators': 3393, \n",
    "    'min_child_weight': 1, \n",
    "    'colsample_bytree': 0.3093338706926109, \n",
    "    'subsample': 0.34665898773899856, \n",
    "    'reg_alpha': 0.00025979785900718985, \n",
    "    'reg_lambda': 0.6047124456612869,\n",
    "}"
   ]
  },
  {
   "cell_type": "code",
   "execution_count": null,
   "metadata": {},
   "outputs": [],
   "source": [
    "sandbox_num_model = XGBRegressor(random_state=0, **sandbox_num_params)\n",
    "sandbox_num_pipeline = Pipeline(steps=[\n",
    "    ('model', sandbox_num_model)\n",
    "], verbose=True)\n",
    "\n",
    "# sandbox_num_scores = score_dataset(\n",
    "#     sandbox_num_X, sandbox_num_y, model=sandbox_num_pipeline)\n",
    "\n",
    "# r.result(sandbox_num_scores, 'num_results.json')\n"
   ]
  },
  {
   "attachments": {},
   "cell_type": "markdown",
   "metadata": {},
   "source": [
    "## Setup pipeline ##"
   ]
  },
  {
   "cell_type": "code",
   "execution_count": null,
   "metadata": {},
   "outputs": [],
   "source": [
    "column_transformer = ColumnTransformer(\n",
    "    verbose_feature_names_out=False,\n",
    "    transformers=[\n",
    "        ('num_constant', numerical_constant_transformer, features_num),\n",
    "        ('cat_nominative', categorical_nominative_transformer, features_nominative),\n",
    "        ('cat_ordered', categorical_ordinal_transformer, features_ordered),\n",
    "        ('price', 'passthrough', [y_column_name]),\n",
    "    ])\n",
    "\n",
    "\n",
    "transform_pipeline = Pipeline(steps=[\n",
    "    ('encode', column_transformer),\n",
    "    ('dataframe', to_dataframe(df_in.index, features_num + features_nominative + features_ordered + [y_column_name])),\n",
    "], verbose=True)\n",
    "\n",
    "transformed_df = transform_pipeline.fit_transform(df_in)\n",
    "\n",
    "\n",
    "df_train = transformed_df.loc[df_train.index, :]\n",
    "df_test = transformed_df.loc[df_test.index, :]\n",
    "\n",
    "y = df_train.pop('SalePrice')\n",
    "X = df_train\n",
    "\n",
    "df_test.pop('SalePrice')\n",
    "X_test = df_test\n"
   ]
  },
  {
   "attachments": {},
   "cell_type": "markdown",
   "metadata": {},
   "source": [
    "## Optimize XGBRegressor params ##"
   ]
  },
  {
   "cell_type": "code",
   "execution_count": null,
   "metadata": {},
   "outputs": [],
   "source": [
    "# xgb_params_optimize = optimize_params(X, y, n_trials=120)\n",
    "# print(xgb_params_optimize)\n"
   ]
  },
  {
   "cell_type": "code",
   "execution_count": null,
   "metadata": {},
   "outputs": [],
   "source": [
    "xgb_params = {\n",
    "    'num_parallel_tree': 2,\n",
    "    'predictor': 'cpu_predictor',\n",
    "    'gamma': 0.0,\n",
    "    'max_delta_step': 3.4000000000000004, \n",
    "    'eta': 0.123, \n",
    "    'colsample_bytree': 0.96, \n",
    "    'colsample_bylevel': 0.221, \n",
    "    'colsample_bynode': 0.959,  \n",
    "    'max_depth': 4, \n",
    "    'learning_rate': 0.029669310558200025, \n",
    "    'n_estimators': 1105, \n",
    "    'min_child_weight': 1, \n",
    "    'subsample': 0.3263923139834056, \n",
    "    'reg_alpha': 0.005254189426687715, \n",
    "    'reg_lambda': 1.5529469959822073\n",
    "}\n"
   ]
  },
  {
   "attachments": {},
   "cell_type": "markdown",
   "metadata": {},
   "source": [
    "## Setup model ##"
   ]
  },
  {
   "cell_type": "code",
   "execution_count": null,
   "metadata": {},
   "outputs": [],
   "source": [
    "model = XGBRegressor(random_state=0, **xgb_params)\n",
    "pipeline = Pipeline(steps=[\n",
    "    ('model', model)\n",
    "], verbose=True)\n",
    "\n",
    "scores = score_dataset(X, y, model=pipeline)\n",
    "\n",
    "print(r.result(scores, 'results.json'))\n"
   ]
  },
  {
   "attachments": {},
   "cell_type": "markdown",
   "metadata": {},
   "source": [
    "# Train Model and Create Submissions #"
   ]
  },
  {
   "cell_type": "code",
   "execution_count": null,
   "metadata": {},
   "outputs": [],
   "source": [
    "xgb = XGBRegressor(random_state=0, **xgb_params)\n",
    "xgb.fit(X, np.log(y))\n",
    "predictions = np.exp(xgb.predict(X_test))\n",
    "\n",
    "output = pd.DataFrame({'Id': X_test.index, 'SalePrice': predictions})\n",
    "output.to_csv('my_submission.csv', index=False)\n",
    "print(\"Your submission was successfully saved!\")\n"
   ]
  }
 ],
 "metadata": {
  "kernelspec": {
   "display_name": ".venv",
   "language": "python",
   "name": "python3"
  },
  "language_info": {
   "codemirror_mode": {
    "name": "ipython",
    "version": 3
   },
   "file_extension": ".py",
   "mimetype": "text/x-python",
   "name": "python",
   "nbconvert_exporter": "python",
   "pygments_lexer": "ipython3",
   "version": "3.10.8"
  },
  "orig_nbformat": 4,
  "vscode": {
   "interpreter": {
    "hash": "ac50c5aa4e15216d19d3b7167f93d59ed672a4f5fd2eb8af64e7f0aefedf61f8"
   }
  }
 },
 "nbformat": 4,
 "nbformat_minor": 2
}
