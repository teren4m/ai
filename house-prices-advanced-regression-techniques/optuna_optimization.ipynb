{
 "cells": [
  {
   "attachments": {},
   "cell_type": "markdown",
   "metadata": {},
   "source": [
    "### Default params ###"
   ]
  },
  {
   "cell_type": "code",
   "execution_count": null,
   "metadata": {},
   "outputs": [],
   "source": [
    "default_xgb_params_optimize = {}\n",
    "default_xgb_params_optimize['predictor'] = 'cpu_predictor'\n",
    "default_xgb_params_optimize['num_parallel_tree'] = 4\n",
    "default_xgb_params_optimize['gamma'] = 0\n",
    "default_xgb_params_optimize['n_estimators'] = 500"
   ]
  },
  {
   "attachments": {},
   "cell_type": "markdown",
   "metadata": {},
   "source": [
    "### Setup ###"
   ]
  },
  {
   "cell_type": "code",
   "execution_count": null,
   "metadata": {},
   "outputs": [],
   "source": [
    "from playsound import playsound\n",
    "import results as r\n",
    "import optuna\n",
    "from xgboost import XGBRegressor\n",
    "import numpy as np\n",
    "from sklearn.model_selection import cross_val_score\n",
    "from pathlib import Path\n",
    "import pandas as pd\n",
    "\n",
    "\n",
    "def score_dataset(X, y, model=XGBRegressor(), n_jobs=None):\n",
    "    # Metric for Housing competition is RMSLE (Root Mean Squared Log Error)\n",
    "    log_y = np.log(y)\n",
    "    score = cross_val_score(\n",
    "        model, X, log_y, cv=5, scoring=\"neg_mean_squared_error\", n_jobs=n_jobs,\n",
    "    )\n",
    "    score = -1 * score.mean()\n",
    "    score = np.sqrt(score)\n",
    "    return score\n",
    "\n",
    "\n",
    "def optimize_params(optimize_X, optimize_y, n_trials=10, n_jobs=1,):\n",
    "    def objective(trial):\n",
    "        xgb_params = dict(\n",
    "            **default_xgb_params_optimize,\n",
    "            eta=trial.suggest_float('eta', 0.1, 1.0),\n",
    "            colsample_bytree=trial.suggest_float('colsample_bytree', 0.1, 1.0),\n",
    "            colsample_bylevel=trial.suggest_float(\n",
    "                'colsample_bylevel', 0.1, 1.0),\n",
    "            colsample_bynode=trial.suggest_float('colsample_bynode', 0.1, 1.0),\n",
    "            max_depth=trial.suggest_int(\"max_depth\", 2, 16),\n",
    "            learning_rate=trial.suggest_float(\n",
    "                \"learning_rate\", 1e-4, 1e-1, log=True),\n",
    "            min_child_weight=trial.suggest_int(\"min_child_weight\", 1, 5),\n",
    "            subsample=trial.suggest_float(\"subsample\", 0.2, 1.0),\n",
    "            reg_alpha=trial.suggest_float(\"reg_alpha\", 1e-4, 1e2, log=True),\n",
    "            reg_lambda=trial.suggest_float(\"reg_lambda\", 1e-4, 1e2, log=True),\n",
    "        )\n",
    "        xgb = XGBRegressor(random_state=0, nthread=9, **xgb_params)\n",
    "        return score_dataset(optimize_X, optimize_y, xgb, 10)\n",
    "    \n",
    "    study = optuna.create_study(\n",
    "        direction=\"minimize\",\n",
    "        # sampler=optuna.samplers.RandomSampler(),\n",
    "        # pruner=optuna.pruners.MedianPruner(),\n",
    "        storage=\"sqlite:///../study.db\",  # Specify the storage URL here.\n",
    "        study_name=\"feature-engineering-for-house-prices13\"\n",
    "        )\n",
    "    print(f\"Sampler is {study.sampler.__class__.__name__}\")\n",
    "    study.optimize(objective, n_trials=n_trials, n_jobs=n_jobs,)\n",
    "    return study.best_params\n"
   ]
  },
  {
   "attachments": {},
   "cell_type": "markdown",
   "metadata": {},
   "source": [
    "### Load data ###"
   ]
  },
  {
   "cell_type": "code",
   "execution_count": null,
   "metadata": {},
   "outputs": [],
   "source": [
    "X = pd.read_csv(\"data/X.csv\", index_col=\"Id\")\n",
    "y = pd.read_csv(\"data/y.csv\", index_col=\"Id\")"
   ]
  },
  {
   "attachments": {},
   "cell_type": "markdown",
   "metadata": {},
   "source": [
    "### Start optimization ###"
   ]
  },
  {
   "cell_type": "code",
   "execution_count": null,
   "metadata": {},
   "outputs": [],
   "source": [
    "xgb_params_optimize = optimize_params(X, y, n_trials=1000,)\n",
    "xgb_params_optimize.update(default_xgb_params_optimize)\n",
    "r.save_result(xgb_params_optimize, 'data/XGBRegressor_params.json')"
   ]
  }
 ],
 "metadata": {
  "kernelspec": {
   "display_name": ".venv",
   "language": "python",
   "name": "python3"
  },
  "language_info": {
   "codemirror_mode": {
    "name": "ipython",
    "version": 3
   },
   "file_extension": ".py",
   "mimetype": "text/x-python",
   "name": "python",
   "nbconvert_exporter": "python",
   "pygments_lexer": "ipython3",
   "version": "3.11.0"
  },
  "orig_nbformat": 4,
  "vscode": {
   "interpreter": {
    "hash": "ac50c5aa4e15216d19d3b7167f93d59ed672a4f5fd2eb8af64e7f0aefedf61f8"
   }
  }
 },
 "nbformat": 4,
 "nbformat_minor": 2
}
